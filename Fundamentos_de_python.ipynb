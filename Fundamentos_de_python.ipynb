{
  "nbformat": 4,
  "nbformat_minor": 0,
  "metadata": {
    "colab": {
      "provenance": [],
      "authorship_tag": "ABX9TyOlwcr4vTSkO2V9pPEv+rCl",
      "include_colab_link": true
    },
    "kernelspec": {
      "name": "python3",
      "display_name": "Python 3"
    },
    "language_info": {
      "name": "python"
    }
  },
  "cells": [
    {
      "cell_type": "markdown",
      "metadata": {
        "id": "view-in-github",
        "colab_type": "text"
      },
      "source": [
        "<a href=\"https://colab.research.google.com/github/GersonDanielGuerrero/Progra-III-2024/blob/main/Fundamentos_de_python.ipynb\" target=\"_parent\"><img src=\"https://colab.research.google.com/assets/colab-badge.svg\" alt=\"Open In Colab\"/></a>"
      ]
    },
    {
      "cell_type": "code",
      "execution_count": null,
      "metadata": {
        "colab": {
          "base_uri": "https://localhost:8080/"
        },
        "id": "vz9HBA-N4XkT",
        "outputId": "19960374-b412-4fff-faea-feaea85ee1fc"
      },
      "outputs": [
        {
          "output_type": "stream",
          "name": "stdout",
          "text": [
            "Hola Mundo\n"
          ]
        }
      ],
      "source": [
        "print(\"Hola Mundo\")"
      ]
    },
    {
      "cell_type": "code",
      "source": [
        "nombre = input(\"Ingresa tu nombre \")\n",
        "print(\"Hola \",nombre, \", inicial: \",nombre[0])"
      ],
      "metadata": {
        "colab": {
          "base_uri": "https://localhost:8080/"
        },
        "id": "UBse7RY85TZl",
        "outputId": "fc217542-42b0-4059-eb59-249381c83483"
      },
      "execution_count": null,
      "outputs": [
        {
          "output_type": "stream",
          "name": "stdout",
          "text": [
            "Ingresa tu nombre Daniel\n",
            "Hola  Daniel , inicial:  D\n"
          ]
        }
      ]
    },
    {
      "cell_type": "markdown",
      "source": [
        "EJERCICIO, crear un programa que sume dos numeros"
      ],
      "metadata": {
        "id": "BXJSconP9iCW"
      }
    },
    {
      "cell_type": "code",
      "source": [
        "num1 = 4\n",
        "num2= 5\n",
        "resp = num1 + num2\n",
        "print(\"La suma es: \",resp)"
      ],
      "metadata": {
        "id": "Lc2WefBs_SNw"
      },
      "execution_count": null,
      "outputs": []
    },
    {
      "cell_type": "markdown",
      "source": [
        "EJERCICIO, crear un programa que sume dos numeros, ingresados por el usuario"
      ],
      "metadata": {
        "id": "LwIYj2Ql_bKo"
      }
    },
    {
      "cell_type": "code",
      "source": [
        "num1 = float(input(\"Ingresa el primer numero \"))\n",
        "num2= float(input(\"Ingresa el segundo numero \"))\n",
        "resp = num1 + num2\n",
        "print(\"La suma es: \", resp)"
      ],
      "metadata": {
        "colab": {
          "base_uri": "https://localhost:8080/"
        },
        "id": "GnUDx5Tq9o1h",
        "outputId": "46d1e9b0-954e-41f1-d8f4-d6661678d56a"
      },
      "execution_count": null,
      "outputs": [
        {
          "output_type": "stream",
          "name": "stdout",
          "text": [
            "Ingresa el primer numero 3\n",
            "INgresa el segundo numero 4\n",
            "La suma es:  7\n"
          ]
        }
      ]
    },
    {
      "cell_type": "code",
      "source": [
        "#Tipos de\n",
        "num1 = 4\n",
        "num2 = 4.5\n",
        "nombre =\"Daniel Guerrero\"\n",
        "print(nombre[0:4], nombre[7:len(nombre)],\",\", nombre[::-1])\n",
        "\n",
        "estado = False\n",
        "print(estado)\n",
        "\n",
        "print(type(num1))\n",
        "print(type(num2))\n",
        "print(type(nombre))\n",
        "print(type(estado))"
      ],
      "metadata": {
        "colab": {
          "base_uri": "https://localhost:8080/"
        },
        "id": "ozlC39J9CLvF",
        "outputId": "fb8f4967-7816-4976-91ad-c79f9e1f14df"
      },
      "execution_count": null,
      "outputs": [
        {
          "output_type": "stream",
          "name": "stdout",
          "text": [
            "Dani Guerrero , orerreuG leinaD\n",
            "False\n",
            "<class 'int'>\n",
            "<class 'float'>\n",
            "<class 'str'>\n",
            "<class 'bool'>\n"
          ]
        }
      ]
    },
    {
      "cell_type": "code",
      "source": [
        "EJERCICIO, crear un programa que lea un numero y diga si es par o impar"
      ],
      "metadata": {
        "id": "axowFotGEkdT"
      },
      "execution_count": null,
      "outputs": []
    },
    {
      "cell_type": "code",
      "source": [
        "num1 = int(input(\"Ingresa un numero: \"))\n",
        "if num1 % 2 == 0:\n",
        "    print(\"El numero es par\")\n",
        "else:\n",
        "    print(\"El numero es impar\")\n",
        "\n",
        "#Multiplo de 3\n",
        "num2 = int(input(\"Ingresa un numero: \"))\n",
        "num_string = str(num2)\n",
        "suma_cifras=0\n",
        "for i in num_string:\n",
        "    suma_cifras += int(i)\n",
        "if suma_cifras % 3 ==0:\n",
        "    print(\"El numero es multiplo de 3\")\n",
        "else:\n",
        "    print(\"El numero no es multiplo de 3\")"
      ],
      "metadata": {
        "colab": {
          "base_uri": "https://localhost:8080/"
        },
        "id": "wwbqCp1uDlFT",
        "outputId": "bb3076d0-1c97-4588-8a01-682f95651442"
      },
      "execution_count": null,
      "outputs": [
        {
          "output_type": "stream",
          "name": "stdout",
          "text": [
            "Ingresa un numero: 468\n",
            "El numero es par\n"
          ]
        }
      ]
    },
    {
      "cell_type": "markdown",
      "source": [
        "Funcion para sumar dos numeros"
      ],
      "metadata": {
        "id": "3RFx7W6-ixvc"
      }
    },
    {
      "cell_type": "code",
      "source": [
        "def suma(num1, num2):\n",
        "  return num1 + num2"
      ],
      "metadata": {
        "id": "mZbrc4SKHNG8"
      },
      "execution_count": 1,
      "outputs": []
    },
    {
      "cell_type": "code",
      "source": [
        "num1 = float(input(\"Num 1: \"))\n",
        "num2 = float(input(\"Num 2: \"))\n",
        "\n",
        "resp = suma(num1, num2)\n",
        "print(\"La suma es: \", resp)"
      ],
      "metadata": {
        "colab": {
          "base_uri": "https://localhost:8080/"
        },
        "id": "QIi3FASqi64O",
        "outputId": "e2353767-f97a-45db-b411-4c65ca70cb5a"
      },
      "execution_count": 2,
      "outputs": [
        {
          "output_type": "stream",
          "name": "stdout",
          "text": [
            "Num 1: 2.43\n",
            "Num 2: 83.5\n",
            "La suma es:  85.93\n"
          ]
        }
      ]
    },
    {
      "cell_type": "markdown",
      "source": [
        "Convertir grados celsius a farenheit"
      ],
      "metadata": {
        "id": "8UiDDrxZjH_5"
      }
    },
    {
      "cell_type": "code",
      "source": [
        "def convertir_cf(c):\n",
        "  return c*1.8 + 32"
      ],
      "metadata": {
        "id": "dF84-NlfjUgo"
      },
      "execution_count": 3,
      "outputs": []
    },
    {
      "cell_type": "code",
      "source": [
        "c = float(input(\"Celsius: \"))\n",
        "print(\"F: \", convertir_cf(c))"
      ],
      "metadata": {
        "colab": {
          "base_uri": "https://localhost:8080/"
        },
        "id": "S3atoTg8jX0T",
        "outputId": "e23b981d-8829-40ce-fd3c-172a64b52328"
      },
      "execution_count": 4,
      "outputs": [
        {
          "output_type": "stream",
          "name": "stdout",
          "text": [
            "Celsius: 100\n",
            "F:  212.0\n"
          ]
        }
      ]
    },
    {
      "cell_type": "markdown",
      "source": [
        "Funcion de paridad"
      ],
      "metadata": {
        "id": "QNwlckfrjgJc"
      }
    },
    {
      "cell_type": "code",
      "source": [
        "def parImpar(num):\n",
        "  if(num%2==0):\n",
        "    return \"par\"\n",
        "  return \"impar\""
      ],
      "metadata": {
        "id": "D_iGgKxVjjM6"
      },
      "execution_count": 5,
      "outputs": []
    },
    {
      "cell_type": "code",
      "source": [
        "num = int(input(\"Num: \"))\n",
        "print(\"EL numero \", num, \" es: \", parImpar(num))"
      ],
      "metadata": {
        "colab": {
          "base_uri": "https://localhost:8080/"
        },
        "id": "aYLrflDujmHV",
        "outputId": "13e21f42-b90b-4a85-fa20-dcb9adc118fe"
      },
      "execution_count": 6,
      "outputs": [
        {
          "output_type": "stream",
          "name": "stdout",
          "text": [
            "Num: 6231\n",
            "EL numero  6231  es:  impar\n"
          ]
        }
      ]
    },
    {
      "cell_type": "markdown",
      "source": [
        "Calcular el sueldo"
      ],
      "metadata": {
        "id": "QKfRLRFLmfri"
      }
    },
    {
      "cell_type": "code",
      "source": [
        "def calcularSueldo(horasDiarias,valorHora):\n",
        "    if (horasDiarias>8):\n",
        "        horasExtra=horasDiarias-8\n",
        "        horasNormales=8\n",
        "    else:\n",
        "        horasExtra=0\n",
        "        horasNormales=horasDiarias\n",
        "    sueldo = valorHora*(horasNormales+horasExtra*2)*30\n",
        "    return sueldo, horasExtra"
      ],
      "metadata": {
        "colab": {
          "base_uri": "https://localhost:8080/"
        },
        "id": "G24bsPVqmiGO",
        "outputId": "7945e0c5-8aff-4c50-fff4-a841e4c5f2f6"
      },
      "execution_count": 34,
      "outputs": [
        {
          "output_type": "execute_result",
          "data": {
            "text/plain": [
              "(1500, 0)"
            ]
          },
          "metadata": {},
          "execution_count": 34
        }
      ]
    },
    {
      "cell_type": "code",
      "source": [
        "horasDiarias = float(input(\"Ingresa las horas que trabajas a diario \"))\n",
        "valorHora= float(input(\"Ingresa el valor por hora \"))\n",
        "\n",
        "sueldo, horasExtra = calcularSueldo(horasDiarias, valorHora)\n",
        "print(\"Diariamente trabajas \",horasDiarias,\" horas\")\n",
        "print(\"Diariamente haces \", horasExtra, \" horas extra\")\n",
        "print(\"Tu sueldo es : \", sueldo)"
      ],
      "metadata": {
        "colab": {
          "base_uri": "https://localhost:8080/"
        },
        "id": "HQyF8vrqpnll",
        "outputId": "bb413ca5-090c-4c29-8b47-94e264a4c38d"
      },
      "execution_count": 39,
      "outputs": [
        {
          "output_type": "stream",
          "name": "stdout",
          "text": [
            "Ingresa las horas que trabajas a diario 10\n",
            "Ingresa el valor por hora 10\n",
            "Diariamente trabajas  10.0  horas\n",
            "Diariamente haces  2.0  horas extra\n",
            "Tu sueldo es :  3600.0\n"
          ]
        }
      ]
    },
    {
      "cell_type": "markdown",
      "source": [
        "**TAREA**\n",
        "\n",
        "1.   Convertir Farenheits a Celsius\n",
        "2.   Convertir Celsius y Farenheit a Kelvin\n",
        "\n"
      ],
      "metadata": {
        "id": "DZNsI_nWj0sm"
      }
    },
    {
      "cell_type": "markdown",
      "source": [
        "**Farenheit a Celsius**"
      ],
      "metadata": {
        "id": "lYytVY06k8P9"
      }
    },
    {
      "cell_type": "code",
      "source": [
        "def convertir_fc(f):\n",
        "  return (f-32)/1.8"
      ],
      "metadata": {
        "id": "S1-pDzP8kKcF"
      },
      "execution_count": 8,
      "outputs": []
    },
    {
      "cell_type": "code",
      "source": [
        "f = float(input(\"Grados Farenheit:\"))\n",
        "print(\"Grados Celsius: \", convertir_fc(f))"
      ],
      "metadata": {
        "colab": {
          "base_uri": "https://localhost:8080/"
        },
        "id": "fsB5G7MokVQ1",
        "outputId": "62ec7104-2c5e-4a05-bfc5-0aed2cb8d4c8"
      },
      "execution_count": 10,
      "outputs": [
        {
          "output_type": "stream",
          "name": "stdout",
          "text": [
            "Grados Farenheit:212\n",
            "Grados Celsius:  100.0\n"
          ]
        }
      ]
    },
    {
      "cell_type": "markdown",
      "source": [
        "Celsius a Kelvin"
      ],
      "metadata": {
        "id": "xAyIV0MOlBX_"
      }
    },
    {
      "cell_type": "code",
      "source": [
        "def convertir_ck(c):\n",
        "  return c + 273.15"
      ],
      "metadata": {
        "id": "tsvyEsv9lFPC"
      },
      "execution_count": 11,
      "outputs": []
    },
    {
      "cell_type": "code",
      "source": [
        "c = float(input(\"Grados Celsius:\"))\n",
        "print(\"Grados Kelvin: \", convertir_ck(c))"
      ],
      "metadata": {
        "colab": {
          "base_uri": "https://localhost:8080/"
        },
        "id": "EPdgdPEFlJ5N",
        "outputId": "2313a633-6cf7-4db3-a129-867b29194f06"
      },
      "execution_count": 12,
      "outputs": [
        {
          "output_type": "stream",
          "name": "stdout",
          "text": [
            "Grados Celsius:0\n",
            "Grados Kelvin:  273.15\n"
          ]
        }
      ]
    },
    {
      "cell_type": "markdown",
      "source": [
        "**Farenheit a Kelvin**"
      ],
      "metadata": {
        "id": "EZy4ULrzla3X"
      }
    },
    {
      "cell_type": "code",
      "source": [
        "def convertir_fk(f):\n",
        "  return (f+459.67)*5/9"
      ],
      "metadata": {
        "id": "ia9LbrHilee3"
      },
      "execution_count": 13,
      "outputs": []
    },
    {
      "cell_type": "code",
      "source": [
        "f = float(input(\"Grados Farenheit:\"))\n",
        "print(\"Grados Kelvin: \", convertir_fk(f))"
      ],
      "metadata": {
        "colab": {
          "base_uri": "https://localhost:8080/"
        },
        "id": "1fmU_V1jmH5I",
        "outputId": "cf45945b-c872-42cb-c5a8-b2ad7908b994"
      },
      "execution_count": 14,
      "outputs": [
        {
          "output_type": "stream",
          "name": "stdout",
          "text": [
            "Grados Farenheit:60\n",
            "Grados Kelvin:  288.7055555555556\n"
          ]
        }
      ]
    }
  ]
}