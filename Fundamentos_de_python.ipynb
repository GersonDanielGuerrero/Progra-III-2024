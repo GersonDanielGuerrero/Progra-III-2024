{
  "nbformat": 4,
  "nbformat_minor": 0,
  "metadata": {
    "colab": {
      "provenance": [],
      "authorship_tag": "ABX9TyO4dwYE+/x1ARWR5+5AIlGJ",
      "include_colab_link": true
    },
    "kernelspec": {
      "name": "python3",
      "display_name": "Python 3"
    },
    "language_info": {
      "name": "python"
    }
  },
  "cells": [
    {
      "cell_type": "markdown",
      "metadata": {
        "id": "view-in-github",
        "colab_type": "text"
      },
      "source": [
        "<a href=\"https://colab.research.google.com/github/GersonDanielGuerrero/Progra-III-2024/blob/main/Fundamentos_de_python.ipynb\" target=\"_parent\"><img src=\"https://colab.research.google.com/assets/colab-badge.svg\" alt=\"Open In Colab\"/></a>"
      ]
    },
    {
      "cell_type": "code",
      "execution_count": 8,
      "metadata": {
        "colab": {
          "base_uri": "https://localhost:8080/"
        },
        "id": "vz9HBA-N4XkT",
        "outputId": "19960374-b412-4fff-faea-feaea85ee1fc"
      },
      "outputs": [
        {
          "output_type": "stream",
          "name": "stdout",
          "text": [
            "Hola Mundo\n"
          ]
        }
      ],
      "source": [
        "print(\"Hola Mundo\")"
      ]
    },
    {
      "cell_type": "code",
      "source": [
        "nombre = input(\"Ingresa tu nombre \")\n",
        "print(\"Hola \",nombre, \", inicial: \",nombre[0])"
      ],
      "metadata": {
        "colab": {
          "base_uri": "https://localhost:8080/"
        },
        "id": "UBse7RY85TZl",
        "outputId": "fc217542-42b0-4059-eb59-249381c83483"
      },
      "execution_count": 13,
      "outputs": [
        {
          "output_type": "stream",
          "name": "stdout",
          "text": [
            "Ingresa tu nombre Daniel\n",
            "Hola  Daniel , inicial:  D\n"
          ]
        }
      ]
    },
    {
      "cell_type": "markdown",
      "source": [
        "EJERCICIO, crear un programa que sume dos numeros"
      ],
      "metadata": {
        "id": "BXJSconP9iCW"
      }
    },
    {
      "cell_type": "code",
      "source": [
        "num1 = 4\n",
        "num2= 5\n",
        "resp = num1 + num2\n",
        "print(\"La suma es: \",resp)"
      ],
      "metadata": {
        "id": "Lc2WefBs_SNw"
      },
      "execution_count": null,
      "outputs": []
    },
    {
      "cell_type": "markdown",
      "source": [
        "EJERCICIO, crear un programa que sume dos numeros, ingresados por el usuario"
      ],
      "metadata": {
        "id": "LwIYj2Ql_bKo"
      }
    },
    {
      "cell_type": "code",
      "source": [
        "num1 = float(input(\"Ingresa el primer numero \"))\n",
        "num2= float(input(\"Ingresa el segundo numero \"))\n",
        "resp = num1 + num2\n",
        "print(\"La suma es: \", resp)"
      ],
      "metadata": {
        "colab": {
          "base_uri": "https://localhost:8080/"
        },
        "id": "GnUDx5Tq9o1h",
        "outputId": "46d1e9b0-954e-41f1-d8f4-d6661678d56a"
      },
      "execution_count": 19,
      "outputs": [
        {
          "output_type": "stream",
          "name": "stdout",
          "text": [
            "Ingresa el primer numero 3\n",
            "INgresa el segundo numero 4\n",
            "La suma es:  7\n"
          ]
        }
      ]
    },
    {
      "cell_type": "code",
      "source": [
        "#Tipos de\n",
        "num1 = 4\n",
        "num2 = 4.5\n",
        "nombre =\"Daniel Guerrero\"\n",
        "print(nombre[0:4], nombre[7:len(nombre)],\",\", nombre[::-1])\n",
        "\n",
        "estado = False\n",
        "print(estado)\n",
        "\n",
        "print(type(num1))\n",
        "print(type(num2))\n",
        "print(type(nombre))\n",
        "print(type(estado))"
      ],
      "metadata": {
        "colab": {
          "base_uri": "https://localhost:8080/"
        },
        "id": "ozlC39J9CLvF",
        "outputId": "fb8f4967-7816-4976-91ad-c79f9e1f14df"
      },
      "execution_count": 33,
      "outputs": [
        {
          "output_type": "stream",
          "name": "stdout",
          "text": [
            "Dani Guerrero , orerreuG leinaD\n",
            "False\n",
            "<class 'int'>\n",
            "<class 'float'>\n",
            "<class 'str'>\n",
            "<class 'bool'>\n"
          ]
        }
      ]
    },
    {
      "cell_type": "code",
      "source": [
        "EJERCICIO, crear un programa que lea un numero y diga si es par o impar"
      ],
      "metadata": {
        "id": "axowFotGEkdT"
      },
      "execution_count": null,
      "outputs": []
    },
    {
      "cell_type": "code",
      "source": [
        "num1 = int(input(\"Ingresa un numero: \"))\n",
        "if num1 % 2 == 0:\n",
        "  print(\"El numero es par\")\n",
        "else:\n",
        "  print(\"El numero es impar\")"
      ],
      "metadata": {
        "colab": {
          "base_uri": "https://localhost:8080/"
        },
        "id": "wwbqCp1uDlFT",
        "outputId": "bb3076d0-1c97-4588-8a01-682f95651442"
      },
      "execution_count": 34,
      "outputs": [
        {
          "output_type": "stream",
          "name": "stdout",
          "text": [
            "Ingresa un numero: 468\n",
            "El numero es par\n"
          ]
        }
      ]
    }
  ]
}