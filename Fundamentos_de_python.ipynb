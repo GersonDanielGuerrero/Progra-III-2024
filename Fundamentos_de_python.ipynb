{
  "nbformat": 4,
  "nbformat_minor": 0,
  "metadata": {
    "colab": {
      "provenance": [],
      "authorship_tag": "ABX9TyMR+vwZFgxfzDcKVhw+SQgy",
      "include_colab_link": true
    },
    "kernelspec": {
      "name": "python3",
      "display_name": "Python 3"
    },
    "language_info": {
      "name": "python"
    }
  },
  "cells": [
    {
      "cell_type": "markdown",
      "metadata": {
        "id": "view-in-github",
        "colab_type": "text"
      },
      "source": [
        "<a href=\"https://colab.research.google.com/github/GersonDanielGuerrero/Progra-III-2024/blob/main/Fundamentos_de_python.ipynb\" target=\"_parent\"><img src=\"https://colab.research.google.com/assets/colab-badge.svg\" alt=\"Open In Colab\"/></a>"
      ]
    },
    {
      "cell_type": "code",
      "execution_count": null,
      "metadata": {
        "colab": {
          "base_uri": "https://localhost:8080/"
        },
        "id": "vz9HBA-N4XkT",
        "outputId": "19960374-b412-4fff-faea-feaea85ee1fc"
      },
      "outputs": [
        {
          "output_type": "stream",
          "name": "stdout",
          "text": [
            "Hola Mundo\n"
          ]
        }
      ],
      "source": [
        "print(\"Hola Mundo\")"
      ]
    },
    {
      "cell_type": "code",
      "source": [
        "nombre = input(\"Ingresa tu nombre \")\n",
        "print(\"Hola \",nombre, \", inicial: \",nombre[0])"
      ],
      "metadata": {
        "colab": {
          "base_uri": "https://localhost:8080/"
        },
        "id": "UBse7RY85TZl",
        "outputId": "fc217542-42b0-4059-eb59-249381c83483"
      },
      "execution_count": null,
      "outputs": [
        {
          "output_type": "stream",
          "name": "stdout",
          "text": [
            "Ingresa tu nombre Daniel\n",
            "Hola  Daniel , inicial:  D\n"
          ]
        }
      ]
    },
    {
      "cell_type": "markdown",
      "source": [
        "EJERCICIO, crear un programa que sume dos numeros"
      ],
      "metadata": {
        "id": "BXJSconP9iCW"
      }
    },
    {
      "cell_type": "code",
      "source": [
        "num1 = 4\n",
        "num2= 5\n",
        "resp = num1 + num2\n",
        "print(\"La suma es: \",resp)"
      ],
      "metadata": {
        "id": "Lc2WefBs_SNw"
      },
      "execution_count": null,
      "outputs": []
    },
    {
      "cell_type": "markdown",
      "source": [
        "EJERCICIO, crear un programa que sume dos numeros, ingresados por el usuario"
      ],
      "metadata": {
        "id": "LwIYj2Ql_bKo"
      }
    },
    {
      "cell_type": "code",
      "source": [
        "num1 = float(input(\"Ingresa el primer numero \"))\n",
        "num2= float(input(\"Ingresa el segundo numero \"))\n",
        "resp = num1 + num2\n",
        "print(\"La suma es: \", resp)"
      ],
      "metadata": {
        "colab": {
          "base_uri": "https://localhost:8080/"
        },
        "id": "GnUDx5Tq9o1h",
        "outputId": "46d1e9b0-954e-41f1-d8f4-d6661678d56a"
      },
      "execution_count": null,
      "outputs": [
        {
          "output_type": "stream",
          "name": "stdout",
          "text": [
            "Ingresa el primer numero 3\n",
            "INgresa el segundo numero 4\n",
            "La suma es:  7\n"
          ]
        }
      ]
    },
    {
      "cell_type": "code",
      "source": [
        "#Tipos de\n",
        "num1 = 4\n",
        "num2 = 4.5\n",
        "nombre =\"Daniel Guerrero\"\n",
        "print(nombre[0:4], nombre[7:len(nombre)],\",\", nombre[::-1])\n",
        "\n",
        "estado = False\n",
        "print(estado)\n",
        "\n",
        "print(type(num1))\n",
        "print(type(num2))\n",
        "print(type(nombre))\n",
        "print(type(estado))"
      ],
      "metadata": {
        "colab": {
          "base_uri": "https://localhost:8080/"
        },
        "id": "ozlC39J9CLvF",
        "outputId": "fb8f4967-7816-4976-91ad-c79f9e1f14df"
      },
      "execution_count": null,
      "outputs": [
        {
          "output_type": "stream",
          "name": "stdout",
          "text": [
            "Dani Guerrero , orerreuG leinaD\n",
            "False\n",
            "<class 'int'>\n",
            "<class 'float'>\n",
            "<class 'str'>\n",
            "<class 'bool'>\n"
          ]
        }
      ]
    },
    {
      "cell_type": "code",
      "source": [
        "EJERCICIO, crear un programa que lea un numero y diga si es par o impar"
      ],
      "metadata": {
        "id": "axowFotGEkdT"
      },
      "execution_count": null,
      "outputs": []
    },
    {
      "cell_type": "code",
      "source": [
        "num1 = int(input(\"Ingresa un numero: \"))\n",
        "if num1 % 2 == 0:\n",
        "    print(\"El numero es par\")\n",
        "else:\n",
        "    print(\"El numero es impar\")\n",
        "\n",
        "#Multiplo de 3\n",
        "num2 = int(input(\"Ingresa un numero: \"))\n",
        "num_string = str(num2)\n",
        "suma_cifras=0\n",
        "for i in num_string:\n",
        "    suma_cifras += int(i)\n",
        "if suma_cifras % 3 ==0:\n",
        "    print(\"El numero es multiplo de 3\")\n",
        "else:\n",
        "    print(\"El numero no es multiplo de 3\")"
      ],
      "metadata": {
        "colab": {
          "base_uri": "https://localhost:8080/"
        },
        "id": "wwbqCp1uDlFT",
        "outputId": "bb3076d0-1c97-4588-8a01-682f95651442"
      },
      "execution_count": null,
      "outputs": [
        {
          "output_type": "stream",
          "name": "stdout",
          "text": [
            "Ingresa un numero: 468\n",
            "El numero es par\n"
          ]
        }
      ]
    },
    {
      "cell_type": "markdown",
      "source": [
        "Funcion para sumar dos numeros"
      ],
      "metadata": {
        "id": "3RFx7W6-ixvc"
      }
    },
    {
      "cell_type": "code",
      "source": [
        "def suma(num1, num2):\n",
        "  return num1 + num2"
      ],
      "metadata": {
        "id": "mZbrc4SKHNG8"
      },
      "execution_count": null,
      "outputs": []
    },
    {
      "cell_type": "code",
      "source": [
        "num1 = float(input(\"Num 1: \"))\n",
        "num2 = float(input(\"Num 2: \"))\n",
        "\n",
        "resp = suma(num1, num2)\n",
        "print(\"La suma es: \", resp)"
      ],
      "metadata": {
        "colab": {
          "base_uri": "https://localhost:8080/"
        },
        "id": "QIi3FASqi64O",
        "outputId": "e2353767-f97a-45db-b411-4c65ca70cb5a"
      },
      "execution_count": null,
      "outputs": [
        {
          "output_type": "stream",
          "name": "stdout",
          "text": [
            "Num 1: 2.43\n",
            "Num 2: 83.5\n",
            "La suma es:  85.93\n"
          ]
        }
      ]
    },
    {
      "cell_type": "markdown",
      "source": [
        "Convertir grados celsius a farenheit"
      ],
      "metadata": {
        "id": "8UiDDrxZjH_5"
      }
    },
    {
      "cell_type": "code",
      "source": [
        "def convertir_cf(c):\n",
        "  return c*1.8 + 32"
      ],
      "metadata": {
        "id": "dF84-NlfjUgo"
      },
      "execution_count": null,
      "outputs": []
    },
    {
      "cell_type": "code",
      "source": [
        "c = float(input(\"Celsius: \"))\n",
        "print(\"F: \", convertir_cf(c))"
      ],
      "metadata": {
        "colab": {
          "base_uri": "https://localhost:8080/"
        },
        "id": "S3atoTg8jX0T",
        "outputId": "e23b981d-8829-40ce-fd3c-172a64b52328"
      },
      "execution_count": null,
      "outputs": [
        {
          "output_type": "stream",
          "name": "stdout",
          "text": [
            "Celsius: 100\n",
            "F:  212.0\n"
          ]
        }
      ]
    },
    {
      "cell_type": "markdown",
      "source": [
        "Funcion de paridad"
      ],
      "metadata": {
        "id": "QNwlckfrjgJc"
      }
    },
    {
      "cell_type": "code",
      "source": [
        "def parImpar(num):\n",
        "  if(num%2==0):\n",
        "    return \"par\"\n",
        "  return \"impar\""
      ],
      "metadata": {
        "id": "D_iGgKxVjjM6"
      },
      "execution_count": null,
      "outputs": []
    },
    {
      "cell_type": "code",
      "source": [
        "num = int(input(\"Num: \"))\n",
        "print(\"EL numero \", num, \" es: \", parImpar(num))"
      ],
      "metadata": {
        "colab": {
          "base_uri": "https://localhost:8080/"
        },
        "id": "aYLrflDujmHV",
        "outputId": "13e21f42-b90b-4a85-fa20-dcb9adc118fe"
      },
      "execution_count": null,
      "outputs": [
        {
          "output_type": "stream",
          "name": "stdout",
          "text": [
            "Num: 6231\n",
            "EL numero  6231  es:  impar\n"
          ]
        }
      ]
    },
    {
      "cell_type": "markdown",
      "source": [
        "Calcular el sueldo"
      ],
      "metadata": {
        "id": "QKfRLRFLmfri"
      }
    },
    {
      "cell_type": "code",
      "source": [
        "def calcularSueldo(horasDiarias,valorHora):\n",
        "    if (horasDiarias>8):\n",
        "        horasExtra=horasDiarias-8\n",
        "        horasNormales=8\n",
        "    else:\n",
        "        horasExtra=0\n",
        "        horasNormales=horasDiarias\n",
        "    sueldo = valorHora*(horasNormales+horasExtra*2)*30\n",
        "    return sueldo, horasExtra"
      ],
      "metadata": {
        "colab": {
          "base_uri": "https://localhost:8080/"
        },
        "id": "G24bsPVqmiGO",
        "outputId": "7945e0c5-8aff-4c50-fff4-a841e4c5f2f6"
      },
      "execution_count": null,
      "outputs": [
        {
          "output_type": "execute_result",
          "data": {
            "text/plain": [
              "(1500, 0)"
            ]
          },
          "metadata": {},
          "execution_count": 34
        }
      ]
    },
    {
      "cell_type": "code",
      "source": [
        "horasDiarias = float(input(\"Ingresa las horas que trabajas a diario \"))\n",
        "valorHora= float(input(\"Ingresa el valor por hora \"))\n",
        "\n",
        "sueldo, horasExtra = calcularSueldo(horasDiarias, valorHora)\n",
        "\n",
        "print(\"Diariamente trabajas \",horasDiarias,\" horas\")\n",
        "print(\"Diariamente haces \",horasExtra,\" horas extra\")\n",
        "print(\"Tu sueldo es : \",sueldo)"
      ],
      "metadata": {
        "colab": {
          "base_uri": "https://localhost:8080/"
        },
        "id": "HQyF8vrqpnll",
        "outputId": "bb413ca5-090c-4c29-8b47-94e264a4c38d"
      },
      "execution_count": null,
      "outputs": [
        {
          "output_type": "stream",
          "name": "stdout",
          "text": [
            "Ingresa las horas que trabajas a diario 10\n",
            "Ingresa el valor por hora 10\n",
            "Diariamente trabajas  10.0  horas\n",
            "Diariamente haces  2.0  horas extra\n",
            "Tu sueldo es :  3600.0\n"
          ]
        }
      ]
    },
    {
      "cell_type": "markdown",
      "source": [
        "**TAREA**\n",
        "\n",
        "1.   Convertir Farenheits a Celsius\n",
        "2.   Convertir Celsius y Farenheit a Kelvin\n",
        "\n"
      ],
      "metadata": {
        "id": "DZNsI_nWj0sm"
      }
    },
    {
      "cell_type": "markdown",
      "source": [
        "**Farenheit a Celsius**"
      ],
      "metadata": {
        "id": "lYytVY06k8P9"
      }
    },
    {
      "cell_type": "code",
      "source": [
        "def convertir_fc(f):\n",
        "  return (f-32)/1.8"
      ],
      "metadata": {
        "id": "S1-pDzP8kKcF"
      },
      "execution_count": null,
      "outputs": []
    },
    {
      "cell_type": "code",
      "source": [
        "f = float(input(\"Grados Farenheit: \"))\n",
        "print(\"Grados Celsius: \", round(convertir_fc(f),2))"
      ],
      "metadata": {
        "colab": {
          "base_uri": "https://localhost:8080/"
        },
        "id": "fsB5G7MokVQ1",
        "outputId": "b32e8b41-c846-4533-9156-78295bc8b019"
      },
      "execution_count": null,
      "outputs": [
        {
          "output_type": "stream",
          "name": "stdout",
          "text": [
            "Grados Farenheit: 1\n",
            "Grados Celsius:  -17.22\n"
          ]
        }
      ]
    },
    {
      "cell_type": "markdown",
      "source": [
        "**Celsius a Kelvin**"
      ],
      "metadata": {
        "id": "xAyIV0MOlBX_"
      }
    },
    {
      "cell_type": "code",
      "source": [
        "def convertir_ck(c):\n",
        "  return c + 273.15"
      ],
      "metadata": {
        "id": "tsvyEsv9lFPC"
      },
      "execution_count": null,
      "outputs": []
    },
    {
      "cell_type": "code",
      "source": [
        "c = float(input(\"Grados Celsius: \"))\n",
        "print(\"Grados Kelvin: \", round(convertir_ck(c),2))"
      ],
      "metadata": {
        "colab": {
          "base_uri": "https://localhost:8080/"
        },
        "id": "EPdgdPEFlJ5N",
        "outputId": "e44ccc60-d43b-4b8d-89e8-b1fbe4b9f240"
      },
      "execution_count": null,
      "outputs": [
        {
          "output_type": "stream",
          "name": "stdout",
          "text": [
            "Grados Celsius: 1\n",
            "Grados Kelvin:  274.15\n"
          ]
        }
      ]
    },
    {
      "cell_type": "markdown",
      "source": [
        "**Farenheit a Kelvin**"
      ],
      "metadata": {
        "id": "EZy4ULrzla3X"
      }
    },
    {
      "cell_type": "code",
      "source": [
        "def convertir_fk(f):\n",
        "  return (f + 459.67) * 5/9"
      ],
      "metadata": {
        "id": "ia9LbrHilee3"
      },
      "execution_count": null,
      "outputs": []
    },
    {
      "cell_type": "code",
      "source": [
        "f = float(input(\"Grados Farenheit: \"))\n",
        "\n",
        "print(\"Grados Kelvin: \", round(convertir_fk(f),2))"
      ],
      "metadata": {
        "colab": {
          "base_uri": "https://localhost:8080/"
        },
        "id": "1fmU_V1jmH5I",
        "outputId": "6224d38e-772b-4884-ec91-9a8dcfce2c6a"
      },
      "execution_count": null,
      "outputs": [
        {
          "output_type": "stream",
          "name": "stdout",
          "text": [
            "Grados Farenheit: 1\n",
            "Grados Kelvin:  255.93\n"
          ]
        }
      ]
    },
    {
      "cell_type": "markdown",
      "source": [
        "EJERCICIO: calcular el cuadrado de un numero"
      ],
      "metadata": {
        "id": "7Je7dDm85-yM"
      }
    },
    {
      "cell_type": "code",
      "source": [
        "def elevar(base=0, exp=2):\n",
        "\n",
        "    return base**exp"
      ],
      "metadata": {
        "id": "mIckHlYB6XD0"
      },
      "execution_count": null,
      "outputs": []
    },
    {
      "cell_type": "code",
      "source": [
        "x = float(input(\"Ingresa un numero \"))\n",
        "y= float(input(\"ingresa la potencia \"))\n",
        "print(elevar(x,y))"
      ],
      "metadata": {
        "colab": {
          "base_uri": "https://localhost:8080/"
        },
        "id": "SRlKIKd66IdU",
        "outputId": "5b6df71a-b7a7-4627-b88b-5c08e9ad6ccb"
      },
      "execution_count": null,
      "outputs": [
        {
          "output_type": "stream",
          "name": "stdout",
          "text": [
            "Ingresa un numero 2\n",
            "ingresa la potencia 8\n",
            "256.0\n"
          ]
        }
      ]
    },
    {
      "cell_type": "markdown",
      "source": [
        "FUNCIONES LAMBDA"
      ],
      "metadata": {
        "id": "0ysB5GHJ6osM"
      }
    },
    {
      "cell_type": "code",
      "source": [
        "elevarLambda = lambda base,exp : base ** exp"
      ],
      "metadata": {
        "id": "skHtHP2A8NYO"
      },
      "execution_count": null,
      "outputs": []
    },
    {
      "cell_type": "code",
      "source": [
        "num = float(input(\"Ingresa un numero \"))\n",
        "print(\"Cuadrado: \", elevarLambda(num,2))"
      ],
      "metadata": {
        "colab": {
          "base_uri": "https://localhost:8080/"
        },
        "id": "cSBLD3yx8-BL",
        "outputId": "c9a0c119-0c50-4cb5-a232-934f1dc40bc2"
      },
      "execution_count": null,
      "outputs": [
        {
          "output_type": "stream",
          "name": "stdout",
          "text": [
            "Ingresa un numero 64\n",
            "Cuadrado:  4096.0\n"
          ]
        }
      ]
    },
    {
      "cell_type": "code",
      "source": [
        "serie = [1,2,3,4,5,6,7,8,9,10]\n",
        "resp = map(lambda x : x**2,serie)\n",
        "print(list(resp))\n",
        "\n",
        "resp2 = map(elevar,serie)\n",
        "print(list(resp2))\n"
      ],
      "metadata": {
        "colab": {
          "base_uri": "https://localhost:8080/"
        },
        "id": "4da-mopO_fgb",
        "outputId": "6de1f3ad-3734-49f7-9ee1-7424b4b66383"
      },
      "execution_count": null,
      "outputs": [
        {
          "output_type": "stream",
          "name": "stdout",
          "text": [
            "[1, 4, 9, 16, 25, 36, 49, 64, 81, 100]\n",
            "[1, 4, 9, 16, 25, 36, 49, 64, 81, 100]\n"
          ]
        }
      ]
    },
    {
      "cell_type": "markdown",
      "source": [
        "EJERCICIO: obtener la raiz cuadrada de una serie de numeros fijos"
      ],
      "metadata": {
        "id": "mMHEFHfTCxpF"
      }
    },
    {
      "cell_type": "code",
      "source": [
        "def calcularRaiz(num,raiz=2):\n",
        "    return num**(1/raiz)"
      ],
      "metadata": {
        "id": "EIrKPEvGD5dW"
      },
      "execution_count": null,
      "outputs": []
    },
    {
      "cell_type": "code",
      "source": [
        "serie = [2, 4, 9, 256]\n",
        "resp = map(lambda x:round(calcularRaiz(x,2),4),serie)\n",
        "print(list(resp))\n"
      ],
      "metadata": {
        "colab": {
          "base_uri": "https://localhost:8080/"
        },
        "id": "2naJ5nIiC6R3",
        "outputId": "3e6735dd-d8a5-45c8-c689-59f46ff4a279"
      },
      "execution_count": null,
      "outputs": [
        {
          "output_type": "stream",
          "name": "stdout",
          "text": [
            "[1.4142, 2.0, 3.0, 16.0]\n"
          ]
        }
      ]
    },
    {
      "cell_type": "markdown",
      "source": [
        "Ejercicios con funciones preconstruidas:"
      ],
      "metadata": {
        "id": "jEnxQ7058eq0"
      }
    },
    {
      "cell_type": "markdown",
      "source": [
        "* MAP"
      ],
      "metadata": {
        "id": "Fu-DXklH8tXN"
      }
    },
    {
      "cell_type": "code",
      "source": [
        "numeros = [1,2,3,4,5,6,7,8,9,10]\n",
        "print(list(map(lambda n : n*2, numeros)))"
      ],
      "metadata": {
        "colab": {
          "base_uri": "https://localhost:8080/"
        },
        "id": "blGDsM-I8zSD",
        "outputId": "834c181c-0ed1-4ad1-a782-2b01c8f62994"
      },
      "execution_count": 3,
      "outputs": [
        {
          "output_type": "stream",
          "name": "stdout",
          "text": [
            "[2, 4, 6, 8, 10, 12, 14, 16, 18, 20]\n"
          ]
        }
      ]
    },
    {
      "cell_type": "code",
      "source": [
        "numeros = [1,2,3,4,5,6,7,8,9,10]\n",
        "tabla = int(input(\"Ingrese el numero de la tabla a calcular: \"))\n",
        "print(list(map(lambda n : n*tabla, numeros)))"
      ],
      "metadata": {
        "colab": {
          "base_uri": "https://localhost:8080/"
        },
        "id": "Y4BLHA0A9Ndm",
        "outputId": "6ecc8036-2c40-49a5-80b8-7434d4019c37"
      },
      "execution_count": 6,
      "outputs": [
        {
          "output_type": "stream",
          "name": "stdout",
          "text": [
            "Ingrese el numero de la tabla a calcular: 6\n",
            "[6, 12, 18, 24, 30, 36, 42, 48, 54, 60]\n"
          ]
        }
      ]
    },
    {
      "cell_type": "markdown",
      "source": [
        "\n",
        "\n",
        "*   FILTER"
      ],
      "metadata": {
        "id": "kE2g7mli969Q"
      }
    },
    {
      "cell_type": "code",
      "source": [
        "numeros = [1,2,3,4,5,6,7,8,9,10]\n",
        "print(\"Pares: \", list(filter(lambda n: n % 2 == 0, numeros)))\n",
        "print(\"Impares: \", list(filter(lambda n: n % 2 == 1, numeros)))"
      ],
      "metadata": {
        "colab": {
          "base_uri": "https://localhost:8080/"
        },
        "id": "ZVxXYelA-FkT",
        "outputId": "989527f5-b54c-43bd-82c2-18f085453214"
      },
      "execution_count": 8,
      "outputs": [
        {
          "output_type": "stream",
          "name": "stdout",
          "text": [
            "Pares:  [2, 4, 6, 8, 10]\n",
            "Impares:  [1, 3, 5, 7, 9]\n"
          ]
        }
      ]
    },
    {
      "cell_type": "markdown",
      "source": [
        "* Reduce"
      ],
      "metadata": {
        "id": "qt0P1_si_J96"
      }
    },
    {
      "cell_type": "code",
      "source": [
        "from functools import reduce\n",
        "numeros = [2,5,7,8,9]\n",
        "print(\"Suma: \", reduce(lambda n,acum: n+acum,numeros))"
      ],
      "metadata": {
        "colab": {
          "base_uri": "https://localhost:8080/"
        },
        "id": "TXdhjgf1_MCZ",
        "outputId": "1a9dfb07-b2d1-4994-c10a-6dd348f9b29f"
      },
      "execution_count": 14,
      "outputs": [
        {
          "output_type": "stream",
          "name": "stdout",
          "text": [
            "Suma:  31\n"
          ]
        }
      ]
    },
    {
      "cell_type": "code",
      "source": [
        "numeros = [2,8,7,53,85,232,334]\n",
        "print(\"Mayor: \", reduce(lambda n, mayor: n if n>mayor else mayor, numeros))\n",
        "print(\"Menor: \", reduce(lambda n, mayor: n if n<mayor else mayor, numeros))"
      ],
      "metadata": {
        "colab": {
          "base_uri": "https://localhost:8080/"
        },
        "id": "49RHivzLANUR",
        "outputId": "4a569316-7d7c-419e-e135-1deeb72ef6b3"
      },
      "execution_count": 17,
      "outputs": [
        {
          "output_type": "stream",
          "name": "stdout",
          "text": [
            "Mayor:  334\n",
            "Menor:  2\n"
          ]
        }
      ]
    },
    {
      "cell_type": "markdown",
      "source": [
        "# Tuplas"
      ],
      "metadata": {
        "id": "qg52muybA2nV"
      }
    },
    {
      "cell_type": "code",
      "source": [
        "numeros = (3,24,2,5,6,2,8,4)\n",
        "print(\"Tupla:\", numeros,\"\\nPrimer:\", numeros[0],\"\\nÚltimo:\",numeros[-1],\n",
        "\"\\nRango 2-6:\", numeros[2:6])"
      ],
      "metadata": {
        "colab": {
          "base_uri": "https://localhost:8080/"
        },
        "id": "qrl_jDdyA575",
        "outputId": "51eecebe-ffb9-4f56-b8a2-ba9f81c14e8d"
      },
      "execution_count": 26,
      "outputs": [
        {
          "output_type": "stream",
          "name": "stdout",
          "text": [
            "Tupla: (3, 24, 2, 5, 6, 2, 8, 4) \n",
            "Primer: 3 \n",
            "Último: 4 \n",
            "Rango 2-6: (2, 5, 6, 2)\n"
          ]
        }
      ]
    },
    {
      "cell_type": "code",
      "source": [
        "semana = (\"domingo\",\"lunes\",\"martes\",\"miercoles\",\"jueves\",\"viernes\",\"sabado\")\n",
        "print(\"primer día:\",semana[0],\"\\nCuántas veces se repite domingo:\",semana.count\n",
        " (\"domingo\"),\"\\nDías de la semana:\",len(semana))"
      ],
      "metadata": {
        "colab": {
          "base_uri": "https://localhost:8080/"
        },
        "id": "RBzKDs_pC_QR",
        "outputId": "543d94ba-4d6f-4feb-d1e0-1a0c82eef8f4"
      },
      "execution_count": 29,
      "outputs": [
        {
          "output_type": "stream",
          "name": "stdout",
          "text": [
            "primer día: domingo \n",
            "Cuántas veces se repite domingo: 1 \n",
            "Días de la semana: 7\n"
          ]
        }
      ]
    },
    {
      "cell_type": "code",
      "source": [
        "import datetime\n",
        "\n",
        "hoy = datetime.date.today()\n",
        "dia = hoy.day\n",
        "mes = hoy.month\n",
        "año = hoy.year\n",
        "dia_semana = hoy.isoweekday()\n",
        "\n",
        "semana = (\"domingo\",\"lunes\",\"martes\",\"miercoles\",\"jueves\",\"viernes\",\"sabado\")\n",
        "\n",
        "meses = (\"enero\",\"febrero\",\"marzo\",\"abril\",\"mayo\",\"junio\",\"julio\",\"agosto\",\n",
        "\"septiembre\",\"octubre\",\"noviembre\",\"diciembre\")\n",
        "\n",
        "print(\"Fecha:\",semana[dia_semana], dia, \"de\",meses[mes],\"del\",año)"
      ],
      "metadata": {
        "colab": {
          "base_uri": "https://localhost:8080/"
        },
        "id": "Fzb0HhVOEIs9",
        "outputId": "eb557251-1161-471c-f364-fa3723d96e33"
      },
      "execution_count": 32,
      "outputs": [
        {
          "output_type": "stream",
          "name": "stdout",
          "text": [
            "Fecha: viernes 2 de septiembre del 2024\n"
          ]
        }
      ]
    },
    {
      "cell_type": "code",
      "source": [
        "tuplas = (\"Pepe\",\"Pablo\")\n",
        "#tuplas[0]=\"Pedro\" - Las tuplas son inmutables\n",
        "print(tuplas)\n",
        "\n",
        "listas = [\"Pepe\",\"Pablo\"]\n",
        "listas[0]=\"Pedro\" #Las listas si son mutables\n",
        "print(listas)"
      ],
      "metadata": {
        "colab": {
          "base_uri": "https://localhost:8080/"
        },
        "id": "W3-t5aE8FmCe",
        "outputId": "d0ab7a39-1a02-4950-eabc-3478bf03a0c8"
      },
      "execution_count": 35,
      "outputs": [
        {
          "output_type": "stream",
          "name": "stdout",
          "text": [
            "('Pepe', 'Pablo')\n",
            "['Pedro', 'Pablo']\n"
          ]
        }
      ]
    },
    {
      "cell_type": "markdown",
      "source": [
        "#Listas"
      ],
      "metadata": {
        "id": "LAHd5RwRGk4x"
      }
    },
    {
      "cell_type": "code",
      "source": [
        "listas = [4,5,2,\"a\",\"Hola\",True]\n",
        "print(listas,listas[-1])"
      ],
      "metadata": {
        "colab": {
          "base_uri": "https://localhost:8080/"
        },
        "id": "bCrEjbEAGnIT",
        "outputId": "82ec0c10-ffce-447d-b10f-ca12f3d5c16d"
      },
      "execution_count": 1,
      "outputs": [
        {
          "output_type": "stream",
          "name": "stdout",
          "text": [
            "[4, 5, 2, 'a', 'Hola', True] True\n"
          ]
        }
      ]
    },
    {
      "cell_type": "code",
      "source": [
        "def obtenerNota(nota, eval):\n",
        "  return eval[1]/3 + nota"
      ],
      "metadata": {
        "id": "g6ryy7hFIRn9"
      },
      "execution_count": 13,
      "outputs": []
    },
    {
      "cell_type": "code",
      "source": [
        "from functools import reduce\n",
        "matriz = [ [\"Lab1\", 10],[\"Lab2\", 10], [\"Parcial\", 10] ]\n",
        "reduce(obtenerNota, matriz, 0)"
      ],
      "metadata": {
        "colab": {
          "base_uri": "https://localhost:8080/"
        },
        "id": "NwU-nZPlHKkh",
        "outputId": "9c69a9b5-75a4-424a-de4f-da583536cb6e"
      },
      "execution_count": 15,
      "outputs": [
        {
          "output_type": "execute_result",
          "data": {
            "text/plain": [
              "10.0"
            ]
          },
          "metadata": {},
          "execution_count": 15
        }
      ]
    }
  ]
}